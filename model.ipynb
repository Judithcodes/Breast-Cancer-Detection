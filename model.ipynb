{
 "cells": [
  {
   "cell_type": "code",
   "execution_count": null,
   "metadata": {},
   "outputs": [],
   "source": [
    "#import libraries\n",
    "import pandas as pd\n",
    "import numpy as np\n",
    "import matplotlib.pyplot as plt\n",
    "%matplotlib inline\n",
    "import seaborn as sns"
   ]
  },
  {
   "cell_type": "code",
   "execution_count": null,
   "metadata": {},
   "outputs": [],
   "source": [
    "#read data\n",
    "df=pd.read_csv('./dataset/data.csv')"
   ]
  },
  {
   "cell_type": "code",
   "execution_count": null,
   "metadata": {
    "scrolled": true
   },
   "outputs": [],
   "source": [
    "#data overview\n",
    "df.head()"
   ]
  },
  {
   "cell_type": "code",
   "execution_count": null,
   "metadata": {},
   "outputs": [],
   "source": [
    "#shuffle the data bcause data in series\n",
    "df=df.sample(frac=1)"
   ]
  },
  {
   "cell_type": "code",
   "execution_count": null,
   "metadata": {},
   "outputs": [],
   "source": [
    "df.iloc[:10]\n",
    "#Now fine"
   ]
  },
  {
   "cell_type": "code",
   "execution_count": null,
   "metadata": {},
   "outputs": [],
   "source": [
    "#drop the unnamed and id columns.\n",
    "#useless\n",
    "df=df.drop(columns=['Unnamed: 32','id'])"
   ]
  },
  {
   "cell_type": "code",
   "execution_count": null,
   "metadata": {},
   "outputs": [],
   "source": [
    "#no of rows and columns\n",
    "df.shape\n",
    "#there is 569 rows and 31columns i.e 30 features and one target class "
   ]
  },
  {
   "cell_type": "code",
   "execution_count": null,
   "metadata": {},
   "outputs": [],
   "source": [
    "#lets check data types\n",
    "df.dtypes\n",
    "#all are numeric except target label 'diagnosis'"
   ]
  },
  {
   "cell_type": "code",
   "execution_count": null,
   "metadata": {},
   "outputs": [],
   "source": [
    "df.describe()"
   ]
  },
  {
   "cell_type": "code",
   "execution_count": null,
   "metadata": {},
   "outputs": [],
   "source": [
    "#check any null values in database\n",
    "df.isnull().values.any()"
   ]
  },
  {
   "cell_type": "code",
   "execution_count": null,
   "metadata": {},
   "outputs": [],
   "source": [
    "#lets count class labels\n",
    "df['diagnosis'].value_counts()"
   ]
  },
  {
   "cell_type": "code",
   "execution_count": null,
   "metadata": {},
   "outputs": [],
   "source": [
    "#Data visualization\n",
    "#histogram\n",
    "df.hist(bins=50,figsize=(15,15))\n",
    "plt.show()"
   ]
  },
  {
   "cell_type": "code",
   "execution_count": null,
   "metadata": {},
   "outputs": [],
   "source": [
    "#Scatter matrix to check correlation between two attributes\n",
    "\n",
    "sns.pairplot(df,hue='diagnosis')"
   ]
  },
  {
   "cell_type": "code",
   "execution_count": null,
   "metadata": {},
   "outputs": [],
   "source": [
    "#Count each label \n",
    "ax=sns.countplot(y='diagnosis',data=df,palette='Set2')"
   ]
  },
  {
   "cell_type": "code",
   "execution_count": null,
   "metadata": {},
   "outputs": [],
   "source": [
    "#lets find correlation\n",
    "fig, ax = plt.subplots(figsize=(12,10))\n",
    "sns.heatmap(df.corr(),ax=ax)"
   ]
  },
  {
   "cell_type": "code",
   "execution_count": null,
   "metadata": {},
   "outputs": [],
   "source": [
    "#box plot to check outlier in each category\n",
    "\n",
    "#define function can be call later \n",
    "def boxPlot(dff):\n",
    "    d=dff.drop(columns=['diagnosis'])\n",
    "    for column in d:\n",
    "        plt.figure(figsize=(5,2))\n",
    "        sns.boxplot(x=column,data=d,palette=\"colorblind\")\n",
    "boxPlot(df)"
   ]
  },
  {
   "cell_type": "code",
   "execution_count": null,
   "metadata": {},
   "outputs": [],
   "source": [
    "#Quartile range\n",
    "\n",
    "Q1=df.quantile(0.25)\n",
    "Q3=df.quantile(0.75)\n",
    "IQR=Q3-Q1\n",
    "\n",
    "##---quartiles and IQR\n",
    "\n",
    "#print(\"Quartile 1:\\n\",Q1)\n",
    "#print(\"\\nQuartile 3:\\n\",Q3)\n",
    "#print(\"\\nIQR :\\n\",IQR)\n",
    "\n",
    "#--display outlier\n",
    "#print((df<(Q1-1.5*IQR))|(df>(Q3+1.5*IQR)))"
   ]
  },
  {
   "cell_type": "code",
   "execution_count": null,
   "metadata": {},
   "outputs": [],
   "source": [
    "#remove all outlier\n",
    "# < Q1-1.5*IQR\n",
    "# > Q3+1.5*IQR\n",
    "\n",
    "df_out = df[~((df < (Q1 - (1.5 * IQR))) |(df > (Q3 + (1.5 * IQR)))).any(axis=1)]\n",
    "df.shape,df_out.shape"
   ]
  },
  {
   "cell_type": "code",
   "execution_count": null,
   "metadata": {},
   "outputs": [],
   "source": [
    "#--visualize again boxplot\n",
    "#boxPlot(df_out)"
   ]
  },
  {
   "cell_type": "code",
   "execution_count": null,
   "metadata": {},
   "outputs": [],
   "source": [
    "#good to go..\n",
    "#Lets seprate labels and features\n",
    "X=df_out.drop(columns=['diagnosis'])\n",
    "y=df_out['diagnosis']"
   ]
  },
  {
   "cell_type": "code",
   "execution_count": null,
   "metadata": {},
   "outputs": [],
   "source": [
    "from sklearn.preprocessing import LabelEncoder\n",
    "#Convert string labels to unique int number\n",
    "lbl=LabelEncoder()\n",
    "y=lbl.fit_transform(y)\n",
    "y[:20]\n",
    "#Here we can see M convert 1 and B convert to 0"
   ]
  },
  {
   "cell_type": "code",
   "execution_count": null,
   "metadata": {},
   "outputs": [],
   "source": [
    "#Spilt the train and test data\n",
    "from sklearn.model_selection import train_test_split\n",
    "\n",
    "X_train,X_test,y_train,y_test=train_test_split(X,y,test_size=0.2)\n",
    "#we used 20% test data"
   ]
  },
  {
   "cell_type": "code",
   "execution_count": null,
   "metadata": {},
   "outputs": [],
   "source": [
    "#check the size before beginning\n",
    "X_train.shape,X_test.shape,y_train.shape,y_test.shape"
   ]
  },
  {
   "cell_type": "code",
   "execution_count": null,
   "metadata": {},
   "outputs": [],
   "source": [
    "#cross validation function\n",
    "from sklearn.metrics import confusion_matrix,make_scorer\n",
    "from sklearn.model_selection import cross_validate\n",
    "\n",
    "\n",
    "def tn(y_true, y_pred): return confusion_matrix(y_true, y_pred)[0, 0]\n",
    "def fp(y_true, y_pred): return confusion_matrix(y_true, y_pred)[0, 1]\n",
    "def fn(y_true, y_pred): return confusion_matrix(y_true, y_pred)[1, 0]\n",
    "def tp(y_true, y_pred): return confusion_matrix(y_true, y_pred)[1, 1]\n",
    "def acc(y_true,y_pred): return accuracy(y_true,y_pred)\n",
    "\n",
    "#custom accuracy\n",
    "def accuracy(y_true,y_pred):\n",
    "    cnf=confusion_matrix(y_true, y_pred)\n",
    "    N=sum(map(sum, cnf))\n",
    "    tp=cnf[1,1]\n",
    "    tn=cnf[0,0]\n",
    "    return round((tp+tn)/N,2)\n",
    "    \n",
    "#cross validation purpose\n",
    "scoring = {'accuracy': make_scorer(accuracy_score),'prec': 'precision'}\n",
    "scoring = {'tp': make_scorer(tp), 'tn': make_scorer(tn),\n",
    "           'fp': make_scorer(fp), 'fn': make_scorer(fn),\n",
    "          'acc': make_scorer(acc) }\n",
    "\n",
    "# call function from each model\n",
    "def display_result(result):\n",
    "    print(\"TP: \",result['test_tp'])\n",
    "    print(\"TN: \",result['test_tn'])\n",
    "    print(\"FN: \",result['test_fn'])\n",
    "    print(\"FP: \",result['test_fp'])\n",
    "    print(\"Accuracy: \",result['test_acc'])"
   ]
  },
  {
   "cell_type": "code",
   "execution_count": null,
   "metadata": {},
   "outputs": [],
   "source": [
    "#acc list and rcc list will be used to store the output of each algo\n",
    "acc=[]\n",
    "roc=[]\n",
    "\n",
    "#import library\n",
    "from sklearn.linear_model import LogisticRegression\n",
    "from sklearn.metrics import roc_auc_score,accuracy_score\n",
    "\n",
    "#Logistic Regression\n",
    "LR=LogisticRegression()\n",
    "LR.fit(X_train,y_train)\n",
    "LR.score(X_train,y_train)\n",
    "y_pred=LR.predict(X_test)\n",
    "\n",
    "#find accuracy\n",
    "ac=accuracy_score(y_test,y_pred)\n",
    "acc.append(ac)\n",
    "\n",
    "#find the ROC_AOC curve\n",
    "#more https://towardsdatascience.com/understanding-auc-roc-curve-68b2303cc9c5\n",
    "\n",
    "rc=roc_auc_score(y_test,y_pred)\n",
    "roc.append(rc)\n",
    "print(\"Accuracy {0} ROC {1}\".format(ac,rc))\n",
    "\n",
    "#-- 95% accuracy but cross validation will give clear idea how accurate our model it is\n",
    "#--cross validation\n",
    "\n",
    "result=cross_validate(clf,X_train,y_train,scoring=scoring,cv=10)\n",
    "display_result(result)"
   ]
  },
  {
   "cell_type": "code",
   "execution_count": null,
   "metadata": {},
   "outputs": [],
   "source": [
    "#Support Vector Machine\n",
    "from sklearn.svm import SVC\n",
    "\n",
    "clf=SVC(gamma='auto',kernel='linear')\n",
    "clf.fit(X_train,y_train)\n",
    "y_pred=clf.predict(X_test)\n",
    "\n",
    "ac=accuracy_score(y_test,y_pred)\n",
    "acc.append(ac)\n",
    "rc=roc_auc_score(y_test,y_pred)\n",
    "roc.append(rc)\n",
    "print(\"Accuracy {0} ROC {1}\".format(ac,rc))\n",
    "\n",
    "#cross validation\n",
    "result=cross_validate(clf,X_train,y_train,scoring=scoring,cv=10)\n",
    "display_result(result)"
   ]
  },
  {
   "cell_type": "code",
   "execution_count": null,
   "metadata": {},
   "outputs": [],
   "source": [
    "#KNN\n",
    "from sklearn.neighbors import KNeighborsClassifier\n",
    "\n",
    "clf=KNeighborsClassifier(n_neighbors=9,n_jobs=-1)\n",
    "clf.fit(X_train,y_train)\n",
    "y_pred=clf.predict(X_test)\n",
    "\n",
    "ac=accuracy_score(y_test,y_pred)\n",
    "acc.append(ac)\n",
    "rc=roc_auc_score(y_test,y_pred)\n",
    "roc.append(rc)\n",
    "print(\"Accuracy {0} ROC {1}\".format(ac,rc))\n",
    "\n",
    "#cross validation\n",
    "result=cross_validate(clf,X_train,y_train,scoring=scoring,cv=10)\n",
    "display_result(result)"
   ]
  },
  {
   "cell_type": "code",
   "execution_count": null,
   "metadata": {},
   "outputs": [],
   "source": [
    "#Naivye Bayes\n",
    "\n",
    "from sklearn.naive_bayes import GaussianNB\n",
    "\n",
    "clf=GaussianNB()\n",
    "clf.fit(X_train,y_train)\n",
    "y_pred=clf.predict(X_test)\n",
    "\n",
    "ac=accuracy_score(y_test,y_pred)\n",
    "acc.append(ac)\n",
    "rc=roc_auc_score(y_test,y_pred)\n",
    "roc.append(rc)\n",
    "print(\"Accuracy {0} ROC {1}\".format(ac,rc))\n",
    "\n",
    "#cross validation\n",
    "result=cross_validate(clf,X_train,y_train,scoring=scoring,cv=10)\n",
    "display_result(result)"
   ]
  },
  {
   "cell_type": "code",
   "execution_count": null,
   "metadata": {},
   "outputs": [],
   "source": [
    "#Random Forest\n",
    "from sklearn.ensemble import RandomForestClassifier\n",
    "\n",
    "clf=RandomForestClassifier(n_estimators=20,max_depth=10)\n",
    "clf.fit(X_train,y_train)\n",
    "y_pred=clf.predict(X_test)\n",
    "\n",
    "ac=accuracy_score(y_test,y_pred)\n",
    "acc.append(ac)\n",
    "rc=roc_auc_score(y_test,y_pred)\n",
    "roc.append(rc)\n",
    "print(\"Accuracy {0} ROC {1}\".format(ac,rc))\n",
    "\n",
    "#cross validation\n",
    "result=cross_validate(clf,X_train,y_train,scoring=scoring,cv=10)\n",
    "display_result(result)"
   ]
  },
  {
   "cell_type": "code",
   "execution_count": null,
   "metadata": {},
   "outputs": [],
   "source": [
    "#lets plot the bar graph\n",
    "\n",
    "#accuracy score\n",
    "plt.figure(figsize=(8,5))\n",
    "plt.bar(['Logistic Regression','SVM','KNN','Naivye Bayes','Random Forest'],acc,color=['salmon','r','g','b','orange'],label='Accuracy')\n",
    "plt.ylabel('Accuracy Score')\n",
    "plt.xlabel('Algortihms')\n",
    "\n",
    "#roc auc\n",
    "plt.figure(figsize=(8,5))\n",
    "plt.bar(['Logistic Regression','SVM','KNN','Naivye Bayes','Random Forest'],roc,color=['salmon','r','g','b','orange'],label='ROC AUC')\n",
    "plt.ylabel('ROC AUC')\n",
    "plt.xlabel('Algortihms')\n",
    "plt.show()"
   ]
  },
  {
   "cell_type": "code",
   "execution_count": null,
   "metadata": {},
   "outputs": [],
   "source": []
  }
 ],
 "metadata": {
  "kernelspec": {
   "display_name": "Python 3",
   "language": "python",
   "name": "python3"
  },
  "language_info": {
   "codemirror_mode": {
    "name": "ipython",
    "version": 3
   },
   "file_extension": ".py",
   "mimetype": "text/x-python",
   "name": "python",
   "nbconvert_exporter": "python",
   "pygments_lexer": "ipython3",
   "version": "3.7.3"
  }
 },
 "nbformat": 4,
 "nbformat_minor": 2
}
